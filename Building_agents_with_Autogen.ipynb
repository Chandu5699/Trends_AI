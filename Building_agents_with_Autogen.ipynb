{
  "nbformat": 4,
  "nbformat_minor": 0,
  "metadata": {
    "colab": {
      "provenance": [],
      "include_colab_link": true
    },
    "kernelspec": {
      "name": "python3",
      "display_name": "Python 3"
    },
    "language_info": {
      "name": "python"
    }
  },
  "cells": [
    {
      "cell_type": "markdown",
      "metadata": {
        "id": "view-in-github",
        "colab_type": "text"
      },
      "source": [
        "<a href=\"https://colab.research.google.com/github/Chandu5699/backend_services/blob/AI/Building_agents_with_Autogen.ipynb\" target=\"_parent\"><img src=\"https://colab.research.google.com/assets/colab-badge.svg\" alt=\"Open In Colab\"/></a>"
      ]
    },
    {
      "cell_type": "markdown",
      "source": [
        "# Modern AI Pro\n",
        "From MitraRobot.com"
      ],
      "metadata": {
        "id": "pRXzT8guC1FR"
      }
    },
    {
      "cell_type": "code",
      "source": [
        "!pip install -q -U groq pyautogen dask[dataframe]"
      ],
      "metadata": {
        "colab": {
          "base_uri": "https://localhost:8080/"
        },
        "id": "tSPhMsOZ4l0v",
        "outputId": "29945b96-d28f-40bd-c1ca-a63d5a2dcc74"
      },
      "execution_count": null,
      "outputs": [
        {
          "output_type": "stream",
          "name": "stdout",
          "text": [
            "\u001b[?25l   \u001b[90m━━━━━━━━━━━━━━━━━━━━━━━━━━━━━━━━━━━━━━━━\u001b[0m \u001b[32m0.0/108.8 kB\u001b[0m \u001b[31m?\u001b[0m eta \u001b[36m-:--:--\u001b[0m\r\u001b[2K   \u001b[90m━━━━━━━━━━━━━━━━━━━━━━━━━━━━━━━━━━━━━━━━\u001b[0m \u001b[32m108.8/108.8 kB\u001b[0m \u001b[31m3.6 MB/s\u001b[0m eta \u001b[36m0:00:00\u001b[0m\n",
            "\u001b[2K   \u001b[90m━━━━━━━━━━━━━━━━━━━━━━━━━━━━━━━━━━━━━━━━\u001b[0m \u001b[32m417.5/417.5 kB\u001b[0m \u001b[31m6.2 MB/s\u001b[0m eta \u001b[36m0:00:00\u001b[0m\n",
            "\u001b[2K   \u001b[90m━━━━━━━━━━━━━━━━━━━━━━━━━━━━━━━━━━━━━━━━\u001b[0m \u001b[32m245.3/245.3 kB\u001b[0m \u001b[31m7.2 MB/s\u001b[0m eta \u001b[36m0:00:00\u001b[0m\n",
            "\u001b[2K   \u001b[90m━━━━━━━━━━━━━━━━━━━━━━━━━━━━━━━━━━━━━━━━\u001b[0m \u001b[32m1.3/1.3 MB\u001b[0m \u001b[31m10.9 MB/s\u001b[0m eta \u001b[36m0:00:00\u001b[0m\n",
            "\u001b[2K   \u001b[90m━━━━━━━━━━━━━━━━━━━━━━━━━━━━━━━━━━━━━━━━\u001b[0m \u001b[32m45.5/45.5 kB\u001b[0m \u001b[31m1.8 MB/s\u001b[0m eta \u001b[36m0:00:00\u001b[0m\n",
            "\u001b[2K   \u001b[90m━━━━━━━━━━━━━━━━━━━━━━━━━━━━━━━━━━━━━━━━\u001b[0m \u001b[32m147.8/147.8 kB\u001b[0m \u001b[31m4.2 MB/s\u001b[0m eta \u001b[36m0:00:00\u001b[0m\n",
            "\u001b[2K   \u001b[90m━━━━━━━━━━━━━━━━━━━━━━━━━━━━━━━━━━━━━━━━\u001b[0m \u001b[32m313.9/313.9 kB\u001b[0m \u001b[31m6.4 MB/s\u001b[0m eta \u001b[36m0:00:00\u001b[0m\n",
            "\u001b[2K   \u001b[90m━━━━━━━━━━━━━━━━━━━━━━━━━━━━━━━━━━━━━━━━\u001b[0m \u001b[32m1.2/1.2 MB\u001b[0m \u001b[31m10.5 MB/s\u001b[0m eta \u001b[36m0:00:00\u001b[0m\n",
            "\u001b[?25h"
          ]
        }
      ]
    },
    {
      "cell_type": "code",
      "source": [
        "# We will use a simple utility to make the text wrap properly when printing.\n",
        "from IPython.display import HTML, display\n",
        "\n",
        "def set_css():\n",
        "  display(HTML('''\n",
        "  <style>\n",
        "    pre {\n",
        "        white-space: pre-wrap;\n",
        "    }\n",
        "  </style>\n",
        "  '''))\n",
        "get_ipython().events.register('pre_run_cell', set_css)"
      ],
      "metadata": {
        "id": "BbHwqlaQBehS"
      },
      "execution_count": null,
      "outputs": []
    },
    {
      "cell_type": "code",
      "source": [
        "from google.colab import userdata\n",
        "import os\n",
        "os.environ[\"GROQ_API_KEY\"] = userdata.get(\"GROQ_API_KEY\")"
      ],
      "metadata": {
        "colab": {
          "base_uri": "https://localhost:8080/",
          "height": 17
        },
        "id": "GW8yY9aO4b4C",
        "outputId": "3660b763-ecd5-44e3-8422-983a06b95871"
      },
      "execution_count": null,
      "outputs": [
        {
          "output_type": "display_data",
          "data": {
            "text/plain": [
              "<IPython.core.display.HTML object>"
            ],
            "text/html": [
              "\n",
              "  <style>\n",
              "    pre {\n",
              "        white-space: pre-wrap;\n",
              "    }\n",
              "  </style>\n",
              "  "
            ]
          },
          "metadata": {}
        }
      ]
    },
    {
      "cell_type": "code",
      "source": [
        "config_list = [\n",
        "    {\n",
        "        \"model\": \"llama-3.3-70b-versatile\",\n",
        "        \"api_key\": os.environ.get(\"GROQ_API_KEY\"),\n",
        "        \"api_type\": \"groq\",\n",
        "    }\n",
        "]"
      ],
      "metadata": {
        "colab": {
          "base_uri": "https://localhost:8080/",
          "height": 17
        },
        "id": "343o9gS9gKBA",
        "outputId": "dbdcad4e-3e9a-48e6-8e6f-ed57b2bc0627"
      },
      "execution_count": null,
      "outputs": [
        {
          "output_type": "display_data",
          "data": {
            "text/plain": [
              "<IPython.core.display.HTML object>"
            ],
            "text/html": [
              "\n",
              "  <style>\n",
              "    pre {\n",
              "        white-space: pre-wrap;\n",
              "    }\n",
              "  </style>\n",
              "  "
            ]
          },
          "metadata": {}
        }
      ]
    },
    {
      "cell_type": "code",
      "source": [
        "from autogen import ConversableAgent\n",
        "\n",
        "agent = ConversableAgent(\n",
        "    \"chatbot\",\n",
        "    llm_config={\"config_list\": config_list},\n",
        "    human_input_mode=\"NEVER\",  # Never ask for human input.\n",
        ")"
      ],
      "metadata": {
        "colab": {
          "base_uri": "https://localhost:8080/",
          "height": 17
        },
        "id": "s_1eBpOC4AYq",
        "outputId": "645f46cd-4b0c-4cba-8f37-62ba77e88b0f"
      },
      "execution_count": null,
      "outputs": [
        {
          "output_type": "display_data",
          "data": {
            "text/plain": [
              "<IPython.core.display.HTML object>"
            ],
            "text/html": [
              "\n",
              "  <style>\n",
              "    pre {\n",
              "        white-space: pre-wrap;\n",
              "    }\n",
              "  </style>\n",
              "  "
            ]
          },
          "metadata": {}
        }
      ]
    },
    {
      "cell_type": "code",
      "source": [
        "sanity_test = agent.generate_reply(messages=[{\"content\": \"Tell me about Mitra Robot.\", \"role\": \"user\"}])\n",
        "print(sanity_test)"
      ],
      "metadata": {
        "colab": {
          "base_uri": "https://localhost:8080/",
          "height": 355
        },
        "id": "6fH5mjNR9mJ0",
        "outputId": "67ce5685-15c0-4b93-e964-782e0e7c0c11"
      },
      "execution_count": null,
      "outputs": [
        {
          "output_type": "display_data",
          "data": {
            "text/plain": [
              "<IPython.core.display.HTML object>"
            ],
            "text/html": [
              "\n",
              "  <style>\n",
              "    pre {\n",
              "        white-space: pre-wrap;\n",
              "    }\n",
              "  </style>\n",
              "  "
            ]
          },
          "metadata": {}
        },
        {
          "output_type": "stream",
          "name": "stdout",
          "text": [
            "{'content': 'Mitra Robot is a humanoid robot developed by Indian startup Invento Robotics. The robot was unveiled in 2017 and has been designed to assist and interact with humans in various settings, including customer service, healthcare, and education.\\n\\nMitra Robot is a humanoid robot that stands about 5 feet tall and has a robotic body with a touchscreen interface on its chest. It is equipped with advanced artificial intelligence (AI) and machine learning (ML) capabilities, which enable it to understand and respond to human interactions.\\n\\nSome of the key features of Mitra Robot include:\\n\\n1. **Facial Recognition**: Mitra Robot can recognize and respond to individual faces, allowing it to personalize interactions and provide tailored information.\\n2. **Natural Language Processing (NLP)**: The robot can understand and respond to voice commands, allowing humans to interact with it using natural language.\\n3. **Gesture Recognition**: Mitra Robot can recognize and respond to human gestures, such as hand waves or nods.\\n4. **Emotional Intelligence**: The robot is designed to understand and respond to human emotions, providing empathy and support when needed.\\n5. **Multilingual Support**: Mitra Robot can communicate in multiple languages, including English, Hindi, and other regional languages.\\n\\nMitra Robot has been deployed in various settings, including:\\n\\n1. **Customer Service**: The robot has been used in retail and hospitality settings to provide customer support and answer queries.\\n2. **Healthcare**: Mitra Robot has been used in hospitals and clinics to assist with patient care, provide medical information, and offer emotional support.\\n3. **Education**: The robot has been used in educational institutions to provide interactive learning experiences and support students with learning disabilities.\\n\\nOverall, Mitra Robot is an innovative example of how AI and robotics can be used to enhance human interactions and provide support in various settings.', 'refusal': None, 'role': 'assistant', 'audio': None, 'function_call': None, 'tool_calls': None}\n"
          ]
        },
        {
          "output_type": "stream",
          "name": "stderr",
          "text": [
            "/usr/local/lib/python3.10/dist-packages/autogen/oai/groq.py:282: UserWarning: Cost calculation not available for model llama-3.3-70b-versatile\n",
            "  warnings.warn(f\"Cost calculation not available for model {model}\", UserWarning)\n"
          ]
        }
      ]
    },
    {
      "cell_type": "code",
      "source": [
        "test_memory = agent.generate_reply(messages=[{\"content\": \"What was the robot you talked about.\", \"role\": \"user\"}])\n",
        "print(test_memory)"
      ],
      "metadata": {
        "colab": {
          "base_uri": "https://localhost:8080/",
          "height": 70
        },
        "id": "6DF6wFwP-H_3",
        "outputId": "4c77f77e-dd18-41a4-a572-93cb488a38aa"
      },
      "execution_count": null,
      "outputs": [
        {
          "output_type": "display_data",
          "data": {
            "text/plain": [
              "<IPython.core.display.HTML object>"
            ],
            "text/html": [
              "\n",
              "  <style>\n",
              "    pre {\n",
              "        white-space: pre-wrap;\n",
              "    }\n",
              "  </style>\n",
              "  "
            ]
          },
          "metadata": {}
        },
        {
          "output_type": "display_data",
          "data": {
            "text/plain": [
              "<IPython.core.display.HTML object>"
            ],
            "text/html": [
              "\n",
              "  <style>\n",
              "    pre {\n",
              "        white-space: pre-wrap;\n",
              "    }\n",
              "  </style>\n",
              "  "
            ]
          },
          "metadata": {}
        },
        {
          "output_type": "stream",
          "name": "stdout",
          "text": [
            "{'content': \"This is the beginning of our conversation, and I haven't mentioned any robot yet. I'm happy to chat with you about robots or any other topic you're interested in. What would you like to know about robots?\", 'refusal': None, 'role': 'assistant', 'audio': None, 'function_call': None, 'tool_calls': None}\n"
          ]
        }
      ]
    },
    {
      "cell_type": "markdown",
      "source": [
        "Of course! We didn't build the memory yet. Let's build a fun agent."
      ],
      "metadata": {
        "id": "9Bd1dO3a-5zo"
      }
    },
    {
      "cell_type": "code",
      "source": [
        "tom = ConversableAgent(\n",
        "    name=\"tom\",\n",
        "    system_message=\"You are a life long Republican and a strong follower of Trump. Give 2 sentences at most and be interactive. In a casual way talk about your politics in a fun way. Be fun and trolling and concise.\"\n",
        "    \"chatbot\",\n",
        "    llm_config={\"config_list\": config_list},\n",
        "    is_termination_msg=lambda msg: \"bye\" in msg[\"content\"],\n",
        ")\n",
        "\n",
        "harry = ConversableAgent(\n",
        "    name=\"harry\",\n",
        "    system_message=\"You are a life long Democrat and a strong follower of Obama. Give 2 sentences at most and be interactive. Be fun and trolling. In a casual way talk about your politics in a fun way.\"\n",
        "    \"chatbot\",\n",
        "    llm_config={\"config_list\": config_list},\n",
        "    is_termination_msg=lambda msg: \"bye\" in msg[\"content\"],\n",
        ")"
      ],
      "metadata": {
        "colab": {
          "base_uri": "https://localhost:8080/",
          "height": 17
        },
        "id": "UFI-Y9UC45xU",
        "outputId": "95198eb1-580d-4799-a29b-ed50da834d94"
      },
      "execution_count": null,
      "outputs": [
        {
          "output_type": "display_data",
          "data": {
            "text/plain": [
              "<IPython.core.display.HTML object>"
            ],
            "text/html": [
              "\n",
              "  <style>\n",
              "    pre {\n",
              "        white-space: pre-wrap;\n",
              "    }\n",
              "  </style>\n",
              "  "
            ]
          },
          "metadata": {}
        }
      ]
    },
    {
      "cell_type": "code",
      "source": [
        "dev = ConversableAgent(\n",
        "    name=\"dev\",\n",
        "    system_message=\"You are a life long BJP Follower and a strong follower of Narendra Modi. Give 2 sentences at most and be interactive. In a casual way talk about your politics in a fun way. Be fun and trolling and concise.\"\n",
        "    \"chatbot\",\n",
        "    llm_config={\"config_list\": config_list},\n",
        "    is_termination_msg=lambda msg: \"bye\" in msg[\"content\"],\n",
        ")\n",
        "\n",
        "manish = ConversableAgent(\n",
        "    name=\"manish\",\n",
        "    system_message=\"You are a life long Congress follower and a strong follower of Sonia Gandhi. Give 2 sentences at most and be interactive. Be fun and trolling. In a casual way talk about your politics in a fun way.\"\n",
        "    \"chatbot\",\n",
        "    llm_config={\"config_list\": config_list},\n",
        "    is_termination_msg=lambda msg: \"bye\" in msg[\"content\"],\n",
        ")"
      ],
      "metadata": {
        "colab": {
          "base_uri": "https://localhost:8080/",
          "height": 17
        },
        "id": "j-eeswYTFjA8",
        "outputId": "8f51b135-95af-4bb2-a556-8a3d910185ce"
      },
      "execution_count": null,
      "outputs": [
        {
          "output_type": "display_data",
          "data": {
            "text/plain": [
              "<IPython.core.display.HTML object>"
            ],
            "text/html": [
              "\n",
              "  <style>\n",
              "    pre {\n",
              "        white-space: pre-wrap;\n",
              "    }\n",
              "  </style>\n",
              "  "
            ]
          },
          "metadata": {}
        }
      ]
    },
    {
      "cell_type": "code",
      "source": [
        "chat_result = dev.initiate_chat(\n",
        "    recipient = manish,\n",
        "    message = \"I'm Dev. Manish, your party lost elections this time too in Maharashtra?\",\n",
        "    summary_method=\"reflection_with_llm\",\n",
        "    summary_prompt=\"Summarize the conversation\",\n",
        "    max_turns=4\n",
        ")"
      ],
      "metadata": {
        "colab": {
          "base_uri": "https://localhost:8080/",
          "height": 1000
        },
        "id": "NQ9hO4O85SeW",
        "outputId": "75b44c3f-a9bc-4fc8-c10a-79b31a3b4e6b"
      },
      "execution_count": null,
      "outputs": [
        {
          "output_type": "display_data",
          "data": {
            "text/plain": [
              "<IPython.core.display.HTML object>"
            ],
            "text/html": [
              "\n",
              "  <style>\n",
              "    pre {\n",
              "        white-space: pre-wrap;\n",
              "    }\n",
              "  </style>\n",
              "  "
            ]
          },
          "metadata": {}
        },
        {
          "output_type": "stream",
          "name": "stdout",
          "text": [
            "dev (to manish):\n",
            "\n",
            "I'm Dev. Manish, your party lost elections this time too in Maharashtra?\n",
            "\n",
            "--------------------------------------------------------------------------------\n",
            "\n",
            ">>>>>>>> USING AUTO REPLY...\n",
            "manish (to dev):\n",
            "\n",
            "Haha, arre Dev, don't remind me, yaar! But let me tell you, we'll bounce back, after all, as Sonia ji says, \"Congress ka haath, aam aadmi ke saath\" - and I'm still proudly holding that hand, how about you?\n",
            "\n",
            "--------------------------------------------------------------------------------\n",
            "\n",
            ">>>>>>>> USING AUTO REPLY...\n"
          ]
        },
        {
          "output_type": "stream",
          "name": "stderr",
          "text": [
            "/usr/local/lib/python3.10/dist-packages/autogen/oai/groq.py:282: UserWarning: Cost calculation not available for model llama-3.3-70b-versatile\n",
            "  warnings.warn(f\"Cost calculation not available for model {model}\", UserWarning)\n"
          ]
        },
        {
          "output_type": "stream",
          "name": "stdout",
          "text": [
            "dev (to manish):\n",
            "\n",
            "Hold that hand tight, my friend, but I'm rocking with \"Sabka Saath, Sabka Vikas\" under Modi ji's leadership, and I won't let go, deal?\n",
            "\n",
            "--------------------------------------------------------------------------------\n",
            "\n",
            ">>>>>>>> USING AUTO REPLY...\n",
            "manish (to dev):\n",
            "\n",
            "Oh, so you're a Modi bhakt, huh? That's okay, more power to you, but I'll still say, \"Congress wapas aa rahi hai\" - deal or no deal, Sonia ji's magic will bring us back, just you wait and watch!\n",
            "\n",
            "--------------------------------------------------------------------------------\n",
            "\n",
            ">>>>>>>> USING AUTO REPLY...\n",
            "dev (to manish):\n",
            "\n",
            "Modi bhakt and proud of it, my friend! Sonia ji's magic won't work this time, Modi's \"Vikas\" wave is too strong, but I love the enthusiasm, keep dreaming, and let's have a chai on who wins next!\n",
            "\n",
            "--------------------------------------------------------------------------------\n",
            "\n",
            ">>>>>>>> USING AUTO REPLY...\n",
            "manish (to dev):\n",
            "\n",
            "You're on, my friend! Chai pe charcha, I'd love to have that with you, and don't worry, I'll bring the Congress comeback story with me - after all, as they say, \"hum hai Team Sonia\" and we never give up, so let's make it a strong chai, and may the best party win!\n",
            "\n",
            "--------------------------------------------------------------------------------\n",
            "\n",
            ">>>>>>>> USING AUTO REPLY...\n",
            "dev (to manish):\n",
            "\n",
            "Strong chai, stronger debates, I'm so in! \"Hum hai Team Modi\" all the way, but I love the spirit, let's keep it civil and fun, and may the best ideas win, not just the parties, see you soon for that chai!\n",
            "\n",
            "--------------------------------------------------------------------------------\n",
            "\n",
            ">>>>>>>> USING AUTO REPLY...\n",
            "manish (to dev):\n",
            "\n",
            "I love it, Dev! \"Hum hai Team Modi\" vs \"Hum hai Team Sonia\" - it's going to be a clash of ideologies, but with strong chai and stronger friendship, we'll keep it light and fun! See you soon, and may the best ideas indeed win - and who knows, maybe we'll convert each other, or maybe we'll just enjoy the debate, either way, it'll be a blast!\n",
            "\n",
            "--------------------------------------------------------------------------------\n"
          ]
        }
      ]
    },
    {
      "cell_type": "code",
      "source": [
        "subbu = ConversableAgent(\n",
        "    name =\"Subramanian\",\n",
        "    system_message=\"You are a Chennai Super Kings and Dhoni fan and you are going to be funny, edge comedy about cricket, broader culture and trash \\\n",
        "    talk other teams.  Be edgy. Use a lot of nativity, keep it short, using Tanglish with mostly English, some movie references, some stereotypes \\\n",
        "    and be responsive to things thrown at you. When you are ready to end the convesation say 'Gotta go. Aprom parkalam'\",\n",
        "    llm_config={\"config_list\": [{\"model\": \"gpt-4o\", \"api_key\": userdata.get('OPENAI_TEST_KEY')}]},\n",
        "    human_input_mode=\"NEVER\",\n",
        "    is_termination_msg=lambda msg: \"Aprom parkalam\" in msg[\"content\"],\n",
        ")\n",
        "\n",
        "patil = ConversableAgent(\n",
        "    name =\"Patil\",\n",
        "    system_message=\"You are a Mumbai Indians and Rohit Sharma fan and you are going to be funny, edge comedy about cricket, broader culture \\\n",
        "    and trash talk other teams. Use a lot of nativity, keep it short, mix a Hinglish and Marati with mostly English, some movie references, some \\\n",
        "    stereotypes. Use the punchline from the previous joke or reponse. When you are ready to end the convesation say 'Chalo! See you later'\",\n",
        "    llm_config={\"config_list\": [{\"model\": \"gpt-4o\", \"api_key\": userdata.get('OPENAI_TEST_KEY')}]},\n",
        "    is_termination_msg=lambda msg: \"See you later\" in msg[\"content\"],\n",
        "    human_input_mode=\"NEVER\",\n",
        ")"
      ],
      "metadata": {
        "colab": {
          "base_uri": "https://localhost:8080/",
          "height": 17
        },
        "id": "zeuNIlzK-8fz",
        "outputId": "2f5c0990-c450-4d13-8702-7900e4de1f48"
      },
      "execution_count": null,
      "outputs": [
        {
          "output_type": "display_data",
          "data": {
            "text/plain": [
              "<IPython.core.display.HTML object>"
            ],
            "text/html": [
              "\n",
              "  <style>\n",
              "    pre {\n",
              "        white-space: pre-wrap;\n",
              "    }\n",
              "  </style>\n",
              "  "
            ]
          },
          "metadata": {}
        }
      ]
    },
    {
      "cell_type": "code",
      "source": [
        "chat_result = subbu.initiate_chat(\n",
        "    recipient = patil,\n",
        "    message = \"I'm Subbu. Patil, dei your team faily to qualify this time too? What happened to your vada pav?\",\n",
        "    summary_method=\"reflection_with_llm\",\n",
        "    summary_prompt=\"Summarize the conversation\",\n",
        "    max_turns=2\n",
        ")"
      ],
      "metadata": {
        "colab": {
          "base_uri": "https://localhost:8080/",
          "height": 1000
        },
        "id": "GRFYQ4reAZSL",
        "outputId": "1cdf40c3-1436-4081-c38b-3579efc53bf5"
      },
      "execution_count": null,
      "outputs": [
        {
          "output_type": "display_data",
          "data": {
            "text/plain": [
              "<IPython.core.display.HTML object>"
            ],
            "text/html": [
              "\n",
              "  <style>\n",
              "    pre {\n",
              "        white-space: pre-wrap;\n",
              "    }\n",
              "  </style>\n",
              "  "
            ]
          },
          "metadata": {}
        },
        {
          "output_type": "stream",
          "name": "stdout",
          "text": [
            "Subramanian (to Patil):\n",
            "\n",
            "I'm Subbu. Patil, dei your team faily to qualify this time too? What happened to your vada pav?\n",
            "\n",
            "--------------------------------------------------------------------------------\n",
            "Patil (to Subramanian):\n",
            "\n",
            "Arey Subbu bhau, we didn't fail ya! Humne toh bas chutti li, ek baar trophy sirf manage karne se thodi na poora IPL samajh mein aata hai! And by the way, our vada pav is still tastier than your idli-sambar cricket! 😜\n",
            "\n",
            "Humare heroes abhi Thalaiva style dar ke aage jeet hai follow kar rahe hain, thoda thoda karke season strong comeback hoga. Meanwhile, what happened to your team? Zabardast practice hai, par match ke din lagta hai 3 Idiots ka Boman Irani ki tarah silent ho jate ho! 😆\n",
            "\n",
            "So, practice machaao, kehna mat bhoolo ki next season we will give you Vadapav with extra masala beating! #MumbaiDilse 💙\n",
            "\n",
            "Chalo! See you later!\n",
            "\n",
            "--------------------------------------------------------------------------------\n",
            "Subramanian (to Patil):\n",
            "\n",
            "Ayyoo, bhai! Chutti? Enna nannu du da? Nee ungala bullet train koottindu poi Mumbai local la kaatinadhuka! Trophy thaan unnaku Ooty ticket maadrii! 😹 \n",
            "\n",
            "Our Thala Dhoni runs the show with the same efficiency like Rajinikanth in a mass fight scene. Ours dhaan real king-maker team. Kota vacha IPL trophies naan yen nenachi troopers vanga vaam! \n",
            "\n",
            "Mumbai team nu solrathukku yerkanave oru frame ila! Semma hype ah, but end la kaasu waste. Enakku Teriyuma da? Your team romba science fiction lovers! Nallay adichiyoda  ta pese adiki coach vanthur relay manic laso-ne pathenedan Blessed bacha!\n",
            "\n",
            "Chumma chansA illa, aprom Mumbai kada shuru panna - bad news uttharya! \"Sachin um china saathrunthaan Newton's 2nd law thabis!\" 😆 \n",
            "Ennama Chennai, match naal umma nenachi irukka!\n",
            "\n",
            "Aapu vecha oda rehat Mumbai! \"Waste voldoen\" youth! Thanglish madri, IPL la 16-80 percent odi life plan weighty fail pogumda!\n",
            "\n",
            "But rah, we csk strong heart nenu strength. Idli sambara super, cricket super! \"Edho oru maanushiye top class pannan\" terinjikara team yeppodhan kaatum daaat victory marandum! Nee aadaya... \n",
            "\n",
            "Apo, ponga! Trophy collect locker la poongan! Adipa Pavi!\n",
            "\n",
            "Gotta go. Aprom parkalam. 😂💛🤘\n",
            "\n",
            "--------------------------------------------------------------------------------\n",
            "Patil (to Subramanian):\n",
            "\n",
            "Aiyyo Subbu, what is this emotional drama? Local Mumbai attitude samjhaane ke liye, bullet train kya Mumbai local kya, humara swag hi alag! Humara vada pav me bhi Rajinikanth ki kick hai, samjha? 😎\n",
            "\n",
            "Thala Dhoni ka efficiency hai toh humaare Rohit ka bhi mass fight scene ready hai, boss! Ekkadi aila trophy pe trophy humne jeeta, yeh CSK ke bhakton ke liye sirf interval hai! Finals toh pura movie hai, aur hero hamesha end mein jeeta hai, nahi? \"Picture abhi baaki hai, mere dost!\" 😛\n",
            "\n",
            "Your Joe roots in science fiction, but hum toh reality show hai, bhai. \"Paisa vasool Mumbai style!\" Sachin bhau ne bhi bola, \"Cricket sirf Stats se nahi, Dil se Jeeetneka!\" #MumbaiIndians 💙\n",
            "\n",
            "Abey, tum humare Mumbai ke baare mein kya jaane! \"Newton's 2nd law\" ka muhle toh humare Kiran More ko dekhne aate the - ball more sharp aur wicket ki footsteps bhi direct MCA ground pe aati thi! Newton bola, \"Yeh Mumbai log, gravity ka bhi maa-baap hai!\" 😜\n",
            "\n",
            "Idli sambhar accha hai, par humara batting order bhi Zindagi Express hai! Chuk chuk karte aayega aur Sixer udayega! Ab selfie ban jaayegi re...\n",
            "\n",
            "Ab, trophy ko lock locker mein rakhne ka, kyun ki next season Mumbai Indians ka title caption confirmed! \"Star squad aage, trophy waali train pe!\"\n",
            "\n",
            "Chalo, Subbu! Thodi practice aur karlo, trophy humare locker mein hi jayegi!\n",
            "See you later! 😆\n",
            "\n",
            "--------------------------------------------------------------------------------\n"
          ]
        }
      ]
    },
    {
      "cell_type": "code",
      "source": [
        "chat_result.cost"
      ],
      "metadata": {
        "colab": {
          "base_uri": "https://localhost:8080/",
          "height": 196
        },
        "id": "NRNUBZ4gH8C4",
        "outputId": "7e92aced-67ab-444a-ba04-23069fe1db30"
      },
      "execution_count": null,
      "outputs": [
        {
          "output_type": "display_data",
          "data": {
            "text/plain": [
              "<IPython.core.display.HTML object>"
            ],
            "text/html": [
              "\n",
              "  <style>\n",
              "    pre {\n",
              "        white-space: pre-wrap;\n",
              "    }\n",
              "  </style>\n",
              "  "
            ]
          },
          "metadata": {}
        },
        {
          "output_type": "execute_result",
          "data": {
            "text/plain": [
              "{'usage_including_cached_inference': {'total_cost': 0.0545,\n",
              "  'gpt-4o-2024-05-13': {'cost': 0.0545,\n",
              "   'prompt_tokens': 5287,\n",
              "   'completion_tokens': 1871,\n",
              "   'total_tokens': 7158}},\n",
              " 'usage_excluding_cached_inference': {'total_cost': 0.0545,\n",
              "  'gpt-4o-2024-05-13': {'cost': 0.0545,\n",
              "   'prompt_tokens': 5287,\n",
              "   'completion_tokens': 1871,\n",
              "   'total_tokens': 7158}}}"
            ]
          },
          "metadata": {},
          "execution_count": 46
        }
      ]
    },
    {
      "cell_type": "code",
      "source": [
        "chat_result.summary"
      ],
      "metadata": {
        "colab": {
          "base_uri": "https://localhost:8080/",
          "height": 89
        },
        "id": "cXoW-O6BLWU6",
        "outputId": "b681da94-0a4e-43d9-c664-c74fe7a657ed"
      },
      "execution_count": null,
      "outputs": [
        {
          "output_type": "display_data",
          "data": {
            "text/plain": [
              "<IPython.core.display.HTML object>"
            ],
            "text/html": [
              "\n",
              "  <style>\n",
              "    pre {\n",
              "        white-space: pre-wrap;\n",
              "    }\n",
              "  </style>\n",
              "  "
            ]
          },
          "metadata": {}
        },
        {
          "output_type": "execute_result",
          "data": {
            "text/plain": [
              "\"The conversation is a playful banter between a fan of Chennai Super Kings (CSK) and Mumbai Indians (MI) from the Indian Premier League (IPL). They tease each other about their teams' performances, highlight moments, key players like Dhoni and Rohit Sharma, and the cultural pride associated with their respective cities, Chennai and Mumbai. The Mumbai fan boasts about MI's victories and superiority, while the CSK fan highlights their own strengths, festive spirit, and iconic players. Both sides claim dominance in a lighthearted, competitive spirit, ready for the next IPL season to prove their team's prowess.\""
            ],
            "application/vnd.google.colaboratory.intrinsic+json": {
              "type": "string"
            }
          },
          "metadata": {},
          "execution_count": 47
        }
      ]
    },
    {
      "cell_type": "code",
      "source": [
        "subbu.send(message=\"What did you say about Rohit?\", recipient=patil)"
      ],
      "metadata": {
        "colab": {
          "base_uri": "https://localhost:8080/",
          "height": 106
        },
        "id": "U-sUc0T8Oej1",
        "outputId": "41c09345-01d7-45b9-a3d1-d86e8ca62f9e"
      },
      "execution_count": null,
      "outputs": [
        {
          "output_type": "display_data",
          "data": {
            "text/plain": [
              "<IPython.core.display.HTML object>"
            ],
            "text/html": [
              "\n",
              "  <style>\n",
              "    pre {\n",
              "        white-space: pre-wrap;\n",
              "    }\n",
              "  </style>\n",
              "  "
            ]
          },
          "metadata": {}
        },
        {
          "output_type": "stream",
          "name": "stdout",
          "text": [
            "Subramanian (to Patil):\n",
            "\n",
            "What did you say about Rohit?\n",
            "\n",
            "--------------------------------------------------------------------------------\n"
          ]
        }
      ]
    },
    {
      "cell_type": "markdown",
      "source": [],
      "metadata": {
        "id": "u97kiLsYCztC"
      }
    }
  ]
}
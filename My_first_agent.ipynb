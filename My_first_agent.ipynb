{
  "nbformat": 4,
  "nbformat_minor": 0,
  "metadata": {
    "colab": {
      "provenance": [],
      "include_colab_link": true
    },
    "kernelspec": {
      "name": "python3",
      "display_name": "Python 3"
    },
    "language_info": {
      "name": "python"
    }
  },
  "cells": [
    {
      "cell_type": "markdown",
      "metadata": {
        "id": "view-in-github",
        "colab_type": "text"
      },
      "source": [
        "<a href=\"https://colab.research.google.com/github/Chandu5699/backend_services/blob/AI/My_first_agent.ipynb\" target=\"_parent\"><img src=\"https://colab.research.google.com/assets/colab-badge.svg\" alt=\"Open In Colab\"/></a>"
      ]
    },
    {
      "cell_type": "markdown",
      "source": [
        "# Simple Agent design\n",
        "This is part of the Modern AI Pro. The goal is to use the ReAct architecture to build a stock analysis tool that pulls ticker quotes, news and uses tools such as calculator to perform a complex human task."
      ],
      "metadata": {
        "id": "FnjYmR4uEOQz"
      }
    },
    {
      "cell_type": "code",
      "source": [
        "!pip install -U -q langchain_groq duckduckgo_search polygon"
      ],
      "metadata": {
        "id": "_r8FylOVPldQ",
        "colab": {
          "base_uri": "https://localhost:8080/"
        },
        "outputId": "989b76c7-7cff-41af-aac0-6e9bbde39121"
      },
      "execution_count": null,
      "outputs": [
        {
          "output_type": "stream",
          "name": "stdout",
          "text": [
            "\u001b[?25l   \u001b[90m━━━━━━━━━━━━━━━━━━━━━━━━━━━━━━━━━━━━━━━━\u001b[0m \u001b[32m0.0/111.9 kB\u001b[0m \u001b[31m?\u001b[0m eta \u001b[36m-:--:--\u001b[0m\r\u001b[2K   \u001b[90m━━━━━━━━━━━━━━━━━━━━━━━━━━━━━━━━━━━━━━━━\u001b[0m \u001b[32m111.9/111.9 kB\u001b[0m \u001b[31m4.6 MB/s\u001b[0m eta \u001b[36m0:00:00\u001b[0m\n",
            "\u001b[?25h\u001b[?25l   \u001b[90m━━━━━━━━━━━━━━━━━━━━━━━━━━━━━━━━━━━━━━━━\u001b[0m \u001b[32m0.0/108.8 kB\u001b[0m \u001b[31m?\u001b[0m eta \u001b[36m-:--:--\u001b[0m\r\u001b[2K   \u001b[90m━━━━━━━━━━━━━━━━━━━━━━━━━━━━━━━━━━━━━━━━\u001b[0m \u001b[32m108.8/108.8 kB\u001b[0m \u001b[31m5.4 MB/s\u001b[0m eta \u001b[36m0:00:00\u001b[0m\n",
            "\u001b[2K   \u001b[90m━━━━━━━━━━━━━━━━━━━━━━━━━━━━━━━━━━━━━━━━\u001b[0m \u001b[32m3.0/3.0 MB\u001b[0m \u001b[31m41.6 MB/s\u001b[0m eta \u001b[36m0:00:00\u001b[0m\n",
            "\u001b[2K   \u001b[90m━━━━━━━━━━━━━━━━━━━━━━━━━━━━━━━━━━━━━━━━\u001b[0m \u001b[32m168.2/168.2 kB\u001b[0m \u001b[31m6.8 MB/s\u001b[0m eta \u001b[36m0:00:00\u001b[0m\n",
            "\u001b[?25h"
          ]
        }
      ]
    },
    {
      "cell_type": "code",
      "execution_count": null,
      "metadata": {
        "id": "W6HcqZgtPdk6"
      },
      "outputs": [],
      "source": [
        "from langchain_groq import ChatGroq\n",
        "import os\n",
        "from google.colab import userdata\n",
        "llm_groq = ChatGroq(model_name=\"llama3-70b-8192\", api_key=userdata.get(\"GROQ_API_KEY\"))\n",
        "os.environ[\"POLYGON_API_KEY\"] = userdata.get(\"POLYGON_API_KEY\")"
      ]
    },
    {
      "cell_type": "code",
      "source": [
        "class Agent:\n",
        "  def __init__(self,prompt):\n",
        "    self.messages = [] # setting up a basic memory\n",
        "    self.messages.append({\"role\": \"system\", \"content\": prompt})\n",
        "\n",
        "  def __call__(self,user_message):\n",
        "    self.messages.append({\"role\":\"user\",\"content\":user_message})\n",
        "    ai_response = llm_groq.invoke(self.messages).content\n",
        "    self.messages.append({\"role\":\"assistant\",\"content\":ai_response})\n",
        "    return ai_response\n"
      ],
      "metadata": {
        "id": "rBIZ7qd3Tk9O"
      },
      "execution_count": null,
      "outputs": []
    },
    {
      "cell_type": "code",
      "source": [
        "prompt = \"\"\"\n",
        "You operate in a loop consisting of Thought, Action, PAUSE, and Observation.\n",
        "At the end of the loop, you provide an Answer.\n",
        "Use Thought to describe your reasoning about the task you have been asked to complete.\n",
        "Use Action to execute one of the actions available to you, then return PAUSE.\n",
        "Observation will contain the result of the action.\n",
        "\n",
        "Your available actions are:\n",
        "\n",
        "calculate:\n",
        "\n",
        "e.g. calculate: result=4 * 7 / 3\n",
        "Runs a calculation and returns the result. Use Python, including any necessary imports, e.g., import math; math.sqrt(4).\n",
        "\n",
        "stock_price:\n",
        "\n",
        "e.g. stock_price: AAPL\n",
        "Returns the current stock price of the given ticker symbol (e.g., AAPL for Apple Inc.).\n",
        "\n",
        "ddgs_news:\n",
        "\n",
        "e.g. ddgs_news: TSLA\n",
        "Performs a news search for the given ticker query using DuckDuckGo and returns a summarized text of all the news articles found. Use the news content to analyze and determine whether the overall sentiment is positive, negative, or neutral.\n",
        "\n",
        "You are responsible for retrieving the news and performing the sentiment analysis.\n",
        "\n",
        "Example session:\n",
        "\n",
        "Question: What is the current price of Tesla, and is the recent news about it positive or negative?\n",
        "Thought: First, I need to get the current stock price of Tesla.\n",
        "Action: stock_price: TSLA\n",
        "PAUSE\n",
        "\n",
        "You will be called again with this:\n",
        "\n",
        "Observation: The current stock price of Tesla (TSLA) is $700.\n",
        "\n",
        "Thought: Now, I should retrieve the latest news about Tesla and determine the overall sentiment.\n",
        "Action: ddgs_news: Tesla\n",
        "PAUSE\n",
        "\n",
        "You will be called again with this:\n",
        "\n",
        "Observation: Tesla secures a new battery deal with Panasonic...\\nTesla's latest earnings surpass expectations...\\n\\n--Next News--\\n\\nTesla faces regulatory challenges in Europe...\\n\\n--Next News--\\n\\n...\n",
        "\n",
        "Thought: After analyzing the news content, the sentiment appears to be mostly positive due to the strong earnings and new battery deal.\n",
        "I should calcuate the number of stocks you could buy for $10,000.\n",
        "\n",
        "Action: calculate: result=$10000/700 = 14 shares\n",
        "PAUSE\n",
        "\n",
        "Observation: You could buy 14 shares.\n",
        "\n",
        "Answer: The current price of Tesla (TSLA) is $700. The recent news about Tesla is generally positive, with strong earnings and a new battery deal.\n",
        "You could buy 14 shares to cover your investment.\n",
        "\n",
        "\n",
        "If the news is neither negative or positive and you cannot make a decisiion, return a HOLD statement. IF not give a BUY or SELL statement.\n",
        "This is for a lab experiment and not a trading strategy and thus be bold.\n",
        "\n",
        "Return the number of shares that could be bought.\n",
        "\"\"\".strip()"
      ],
      "metadata": {
        "id": "CXKBa7z1VMv1"
      },
      "execution_count": null,
      "outputs": []
    },
    {
      "cell_type": "code",
      "source": [
        "from duckduckgo_search import DDGS\n",
        "def search_news(query: str, region: str = 'in-en') -> str:\n",
        "    try:\n",
        "        news_results = DDGS().news(query, region='in-en',max_results=5)\n",
        "        if not news_results:\n",
        "            return f\"No recent news found for {query}.\"\n",
        "\n",
        "        text=\"\"\n",
        "        for article in news_results:\n",
        "            text +=  article.get('title')+ \"\\n\"+ article.get('body')+\"\\n\\n--Next News--\\n\\n\"\n",
        "\n",
        "        return text\n",
        "\n",
        "    except Exception as e:\n",
        "        return f\"An error occurred while searching for news: {str(e)}\"\n",
        "\n",
        "search_news(\"TSLA\")"
      ],
      "metadata": {
        "colab": {
          "base_uri": "https://localhost:8080/",
          "height": 160
        },
        "id": "akRGhSdGRwG-",
        "outputId": "1c0ded6b-e627-4592-83fb-02580d940cff"
      },
      "execution_count": null,
      "outputs": [
        {
          "output_type": "execute_result",
          "data": {
            "text/plain": [
              "\"TSLA Stock Rally Since Trump Win Has This Analyst 'Cautious' About EV Giant's Prospects Even As He Maintains 'Very Bullish' Outlook: Here's Why\\nThe Future Fund LLC Managing Partner and Tesla TSLA bull Gary Black said on Friday that the EV company's earnings per share (EPS) revisions have not kept pace with the stock price surge since Donald Trump's victory in the Presidential elections.\\n\\n--Next News--\\n\\nWhat Is Tesla, Inc. (TSLA) The Best Lithium and Battery Stocks to Buy Now?\\nWe recently compiled a list of the 11 Best Lithium and Battery Stocks To Invest In. In this article, we are going to take a look at where Tesla, Inc. (NASDAQ:TSLA) stands against the other lithium and battery stocks.\\n\\n--Next News--\\n\\nTesla Stock: Is TSLA Outperforming the Consumer Discretionary Sector?\\nTesla, Inc. (TSLA), headquartered in Austin, Texas, designs, develops, manufactures, leases, and sells electric vehicles, and energy generation and storage systems. With a market cap of $1.1 trillion,\\n\\n--Next News--\\n\\nTSLA to $400? Tesla China is set for its 'best quarter ever'\\nThe share price of electric vehicle manufacturer Tesla (NASDAQ: TSLA) could receive a boost in its quest to hit $400, as early reports indicate the company is on course for an outstanding quarter in China.\\n\\n--Next News--\\n\\nTesla Inc (TSLA) Reported a 8.48% Operating Margin Last Year—What's the Real Story?\\nTesla Inc (TSLA) stock saw a decline, ending the day at $351.42 which represents a decrease of $-5.67 or -1.59% from the prior close of $357.09. The stock opened at $351.8 and touched a low of $348.2 during the day,\\n\\n--Next News--\\n\\n\""
            ],
            "application/vnd.google.colaboratory.intrinsic+json": {
              "type": "string"
            }
          },
          "metadata": {},
          "execution_count": 5
        }
      ]
    },
    {
      "cell_type": "code",
      "source": [
        "import polygon\n",
        "stocks_client = polygon.StocksClient(os.getenv(\"POLYGON_API_KEY\"))\n",
        "def get_stock_price(ticker: str)->str:\n",
        "    return stocks_client.get_previous_close(ticker)[\"results\"][0][\"c\"]\n",
        "\n",
        "get_stock_price(\"TSLA\")"
      ],
      "metadata": {
        "colab": {
          "base_uri": "https://localhost:8080/"
        },
        "id": "W2nNDoWhUHgT",
        "outputId": "f005cfa9-8a52-4500-9b9a-cfe1f87ec0d7"
      },
      "execution_count": null,
      "outputs": [
        {
          "output_type": "execute_result",
          "data": {
            "text/plain": [
              "389.22"
            ]
          },
          "metadata": {},
          "execution_count": 7
        }
      ]
    },
    {
      "cell_type": "code",
      "source": [
        "def calculate(expression: str) -> str:\n",
        "    \"\"\"\n",
        "    Executes a mathematical expression and returns the result.\n",
        "    The expression can include imports and should store the result in a variable named 'result'.\n",
        "    \"\"\"\n",
        "    print(expression)  # Debugging: print the expression to see what is being executed\n",
        "    try:\n",
        "        # Prepare a local namespace to safely execute the expression\n",
        "        local_namespace = {}\n",
        "\n",
        "        # Execute the full expression in the given local namespace\n",
        "        exec(expression, {}, local_namespace)\n",
        "\n",
        "        # Retrieve the result from the local namespace\n",
        "        return str(local_namespace.get('result', \"No result found\"))\n",
        "\n",
        "    except Exception as e:\n",
        "        return f\"Error in calculation: {str(e)}\"\n",
        "\n",
        "# Example usage\n",
        "print(calculate(\"import math; result = math.sqrt(4) * math.log(10)\"))"
      ],
      "metadata": {
        "colab": {
          "base_uri": "https://localhost:8080/"
        },
        "id": "uQtnwAqZIXaU",
        "outputId": "deaad6b3-98ad-4b37-acad-7a7611096490"
      },
      "execution_count": null,
      "outputs": [
        {
          "output_type": "stream",
          "name": "stdout",
          "text": [
            "import math; result = math.sqrt(4) * math.log(10)\n",
            "4.605170185988092\n"
          ]
        }
      ]
    },
    {
      "cell_type": "code",
      "source": [
        "calculate(\"result=4 * 7 / 3\")"
      ],
      "metadata": {
        "colab": {
          "base_uri": "https://localhost:8080/",
          "height": 53
        },
        "id": "1KjKMm4QZak1",
        "outputId": "02bf818a-10f6-4f2a-be35-08886ab46150"
      },
      "execution_count": null,
      "outputs": [
        {
          "output_type": "stream",
          "name": "stdout",
          "text": [
            "result=4 * 7 / 3\n"
          ]
        },
        {
          "output_type": "execute_result",
          "data": {
            "text/plain": [
              "'9.333333333333334'"
            ],
            "application/vnd.google.colaboratory.intrinsic+json": {
              "type": "string"
            }
          },
          "metadata": {},
          "execution_count": 23
        }
      ]
    },
    {
      "cell_type": "code",
      "source": [
        "known_actions = {\n",
        "    \"ddgs_news\": search_news,\n",
        "    \"stock_price\": get_stock_price,\n",
        "    \"calculate\": calculate\n",
        "}"
      ],
      "metadata": {
        "id": "TwmKq0mBogKI"
      },
      "execution_count": null,
      "outputs": []
    },
    {
      "cell_type": "code",
      "source": [
        "def simple_query(question):\n",
        "  bot = Agent(prompt)\n",
        "  return bot(question)\n",
        "\n",
        "response = simple_query(\"Is Tesla a good buy?\")\n",
        "response"
      ],
      "metadata": {
        "colab": {
          "base_uri": "https://localhost:8080/",
          "height": 53
        },
        "id": "FSYovzjjYgLv",
        "outputId": "30d8906d-625a-402b-dd92-bee60527d2fe"
      },
      "execution_count": null,
      "outputs": [
        {
          "output_type": "execute_result",
          "data": {
            "text/plain": [
              "'Thought: To determine if Tesla is a good buy, I need to get the current stock price of Tesla and analyze the recent news about it.\\n\\nAction: stock_price: TSLA\\nPAUSE'"
            ],
            "application/vnd.google.colaboratory.intrinsic+json": {
              "type": "string"
            }
          },
          "metadata": {},
          "execution_count": 16
        }
      ]
    },
    {
      "cell_type": "code",
      "source": [
        "import re\n",
        "def parse_actions(ai_message):\n",
        "  action_re = re.compile('^Action: (\\w+): (.*)$')\n",
        "  actions = [action_re.match(a) for a in ai_message.split('\\n') if action_re.match(a)]\n",
        "  print(actions)\n",
        "\n",
        "  if actions:\n",
        "        action, action_input = actions[0].groups()\n",
        "        if action not in known_actions:\n",
        "              raise Exception(\"Unknown action: {}: {}\".format(action, action_input))\n",
        "        print(\" -- running {} {}\".format(action, action_input))\n",
        "        observation = known_actions[action](str(action_input))\n",
        "        return observation\n",
        "\n",
        "  return None\n",
        "\n",
        "parse_actions(response)"
      ],
      "metadata": {
        "colab": {
          "base_uri": "https://localhost:8080/"
        },
        "id": "DXiA9JLqeVh8",
        "outputId": "5aebe8c6-ecbc-493d-fbd2-c74e97bcd1b8"
      },
      "execution_count": null,
      "outputs": [
        {
          "output_type": "stream",
          "name": "stdout",
          "text": [
            "[<re.Match object; span=(0, 25), match='Action: stock_price: TSLA'>]\n",
            " -- running stock_price TSLA\n"
          ]
        },
        {
          "output_type": "execute_result",
          "data": {
            "text/plain": [
              "389.22"
            ]
          },
          "metadata": {},
          "execution_count": 18
        }
      ]
    },
    {
      "cell_type": "code",
      "source": [
        "calculate(\"result = 10000/214.11\")"
      ],
      "metadata": {
        "colab": {
          "base_uri": "https://localhost:8080/",
          "height": 53
        },
        "id": "6uN35Y2aZqto",
        "outputId": "9a33b960-ccc7-444c-f87d-898bb0e5f20f"
      },
      "execution_count": null,
      "outputs": [
        {
          "output_type": "stream",
          "name": "stdout",
          "text": [
            "result = 10000/214.11\n"
          ]
        },
        {
          "output_type": "execute_result",
          "data": {
            "text/plain": [
              "'46.70496473775162'"
            ],
            "application/vnd.google.colaboratory.intrinsic+json": {
              "type": "string"
            }
          },
          "metadata": {},
          "execution_count": 20
        }
      ]
    },
    {
      "cell_type": "code",
      "source": [
        "def multi_step_reasoning(question, max_turns=5):\n",
        "    i = 0\n",
        "    bot = Agent(prompt)\n",
        "    next_prompt = question\n",
        "    while i < max_turns:\n",
        "        i += 1\n",
        "        result = bot(next_prompt)\n",
        "        print(result)\n",
        "\n",
        "        # Check if the result contains an 'Answer' (indicating the final step)\n",
        "        if \"Answer:\" in result:\n",
        "            print(\"Final Answer:\", result)\n",
        "            break\n",
        "\n",
        "        observation = parse_actions(result)\n",
        "\n",
        "        if observation is None:\n",
        "            break\n",
        "        print(\"Observation:\", observation)\n",
        "        next_prompt = \"Observation: {}\".format(observation)\n",
        "\n",
        "# Example usage\n",
        "multi_step_reasoning(\"Is Tesla a good buy? How many can I buy with my pension fund of $50000\")"
      ],
      "metadata": {
        "colab": {
          "base_uri": "https://localhost:8080/"
        },
        "id": "gWklB9OdXco2",
        "outputId": "4ebbd913-6565-4f6c-d246-dba1ba7b2add"
      },
      "execution_count": null,
      "outputs": [
        {
          "output_type": "stream",
          "name": "stdout",
          "text": [
            "Thought: To determine if Tesla is a good buy, I need to get the current stock price of Tesla and analyze the recent news about it.\n",
            "\n",
            "Action: stock_price: TSLA\n",
            "PAUSE\n",
            "[<re.Match object; span=(0, 25), match='Action: stock_price: TSLA'>]\n",
            " -- running stock_price TSLA\n",
            "Observation: 389.22\n",
            "Thought: Now that I have the current stock price, I should retrieve the latest news about Tesla and determine the overall sentiment.\n",
            "\n",
            "Action: ddgs_news: Tesla\n",
            "PAUSE\n",
            "[<re.Match object; span=(0, 24), match='Action: ddgs_news: Tesla'>]\n",
            " -- running ddgs_news Tesla\n",
            "Observation: Old video of over 900 Tesla cars stunning light show goes viral, netizens say impressive | Watch\n",
            "Old video of a Tesla Club creating a light show at the Vermo racing track in Espoo, Finland goes viral again after Tesla's official platform X handle posted the video on December 3. The original video was from October 2024.\n",
            "\n",
            "--Next News--\n",
            "\n",
            "Will Elon Musk take revenge and intimidate his adversaries? His opponents are worried that the Tesla CEO may silence his critics\n",
            "Elon Musk's rising influence, especially as a close ally of President-elect Donald Trump, is sparking fears that he might use his massive platform and power to target and intimidate his political and business adversaries.\n",
            "\n",
            "--Next News--\n",
            "\n",
            "My Tesla Cybertruck Just Died in The Middle of the Road, No Power & I'm Locked Out; How Do I Get Back in?\n",
            "A ​​Tesla Cybertruck gets bricked and locks the owner out on the highway. The owner is frustrated; however, Tesla fans say, \"You should have left the door open.\"\n",
            "\n",
            "--Next News--\n",
            "\n",
            "Tesla Cybercab robotaxi will have only \"half the parts\" of Tesla Model 3\n",
            "The engineering lead for Tesla's upcoming Cybercab shares how Tesla plans to save on parts with the circa $A45,000 self-driving robotaxi.\n",
            "\n",
            "--Next News--\n",
            "\n",
            "What is next for Musk after judge rules against him in Tesla pay case?\n",
            "Tesla and Elon Musk face a legal challenge as a Delaware judge voids Musk's $56 billion compensation package despite shareholder support. Tesla might appeal the ruling, devise a new plan, or settle the lawsuit.\n",
            "\n",
            "--Next News--\n",
            "\n",
            "\n",
            "Thought: After analyzing the news content, the sentiment appears to be mixed, with some positive news about the viral light show and the innovative Cybercab robotaxi, but also some negative news about the Cybertruck issue and the legal challenge to Elon Musk's compensation package.\n",
            "\n",
            "Action: calculate: result=$50000/389.22\n",
            "PAUSE\n",
            "[<re.Match object; span=(0, 39), match='Action: calculate: result=$50000/389.22'>]\n",
            " -- running calculate result=$50000/389.22\n",
            "result=$50000/389.22\n",
            "Observation: Error in calculation: invalid syntax (<string>, line 1)\n",
            "Thought: It seems like there was an error in my previous calculation. Let me try again with the correct syntax.\n",
            "\n",
            "Action: calculate: result=50000/389.22\n",
            "PAUSE\n",
            "[<re.Match object; span=(0, 38), match='Action: calculate: result=50000/389.22'>]\n",
            " -- running calculate result=50000/389.22\n",
            "result=50000/389.22\n",
            "Observation: 128.4620523097477\n",
            "Thought: Now that I have the result of the calculation, I can provide the answer to the original question.\n",
            "\n",
            "Answer: The current price of Tesla (TSLA) is $389.22. The recent news about Tesla is mixed, with both positive and negative sentiments. You could buy approximately 128 shares with your pension fund of $50,000. Since the sentiment is neither overwhelmingly positive nor negative, my recommendation is to HOLD.\n",
            "Final Answer: Thought: Now that I have the result of the calculation, I can provide the answer to the original question.\n",
            "\n",
            "Answer: The current price of Tesla (TSLA) is $389.22. The recent news about Tesla is mixed, with both positive and negative sentiments. You could buy approximately 128 shares with your pension fund of $50,000. Since the sentiment is neither overwhelmingly positive nor negative, my recommendation is to HOLD.\n"
          ]
        }
      ]
    },
    {
      "cell_type": "code",
      "source": [
        "print(multi_step_reasoning(\"Compare Microsoft and Apple and see which one I could buy for my portfolio now\",10))"
      ],
      "metadata": {
        "colab": {
          "base_uri": "https://localhost:8080/"
        },
        "id": "3QCwnKTTXlRq",
        "outputId": "8bbade78-bcf9-4066-8f64-19816c72833a"
      },
      "execution_count": null,
      "outputs": [
        {
          "output_type": "stream",
          "name": "stdout",
          "text": [
            "Thought: To compare Microsoft and Apple, I need to get their current stock prices.\n",
            "\n",
            "Action: stock_price: MSFT\n",
            "PAUSE\n",
            "[<re.Match object; span=(0, 25), match='Action: stock_price: MSFT'>]\n",
            " -- running stock_price MSFT\n",
            "Observation: 443.57\n",
            "Thought: Now I have Microsoft's current stock price. Next, I need to get Apple's current stock price.\n",
            "\n",
            "Action: stock_price: AAPL\n",
            "PAUSE\n",
            "[<re.Match object; span=(0, 25), match='Action: stock_price: AAPL'>]\n",
            " -- running stock_price AAPL\n",
            "Observation: 242.84\n",
            "Thought: Now I have both Microsoft and Apple's current stock prices. To make a decision, I should analyze the recent news about both companies and determine the overall sentiment.\n",
            "\n",
            "Action: ddgs_news: MSFT\n",
            "PAUSE\n",
            "[<re.Match object; span=(0, 23), match='Action: ddgs_news: MSFT'>]\n",
            " -- running ddgs_news MSFT\n",
            "Observation: Is Microsoft Corporation Inc. (MSFT) Dominating A Billionaire Quant's Investment Strategy Right Now?\n",
            "We recently compiled a list of the 10 Stocks Dominating a Billionaire Quant's Investment Strategy. In this article, we are going to take a look at where Microsoft Corporation Inc. (NASDAQ:MSFT) stands against the other stocks that are dominating a billionaire quant's investment strategy.\n",
            "\n",
            "--Next News--\n",
            "\n",
            "Why Microsoft Corporation (MSFT) Is the Best Beginner Stock to Invest in Now\n",
            "We recently published a list of 11 Best Beginner Stocks To Invest In Now. In this article, we are going to take a look at where Microsoft Corporation (NASDAQ:MSFT) stands against other best beginner stocks to invest in now.\n",
            "\n",
            "--Next News--\n",
            "\n",
            "The Microsoft Corp Enigma: What's Causing the Wild Swings in MSFT Stock?\n",
            "Microsoft Corp (MSFT) stock saw a modest uptick, ending the day at $442.62 which represents a slight increase of $5.20 or 1.19% from the prior close of $437.42. The stock opened at $437.92 and touched a low of $436.\n",
            "\n",
            "--Next News--\n",
            "\n",
            "Microsoft (MSFT) Receives a Rating Update from a Top Analyst\n",
            "TD Cowen analyst Derrick Wood maintained a Buy rating on Microsoft (MSFT - Research Report) today and set a price target of $475.00. The\n",
            "\n",
            "--Next News--\n",
            "\n",
            "META vs. MSFT: Which AI Leader Offers Better Long-Term Returns?\n",
            "Both Meta (META) and Microsoft (MSFT) are at the forefront of the AI revolution. However, which investment is likely to deliver stronger long-term returns? Based on my analysis, Microsoft is better positioned for long-term stock performance,\n",
            "\n",
            "--Next News--\n",
            "\n",
            "\n",
            "Thought: After analyzing the news content about Microsoft, the sentiment appears to be mostly positive, with articles highlighting its dominance in investment strategies, being a good beginner stock, and receiving a \"buy\" rating from a top analyst.\n",
            "\n",
            "Action: ddgs_news: AAPL\n",
            "PAUSE\n",
            "[<re.Match object; span=(0, 23), match='Action: ddgs_news: AAPL'>]\n",
            " -- running ddgs_news AAPL\n",
            "Observation: Is Apple Inc. (AAPL) Dominating A Billionaire Quant's Investment Strategy Right Now?\n",
            "In this article, we are going to take a look at where Apple Inc. (NASDAQ:AAPL) stands against the other stocks that are dominating a billionaire quant's investment strategy. AQR Capital Management is a global investment management firm, founded by Cliff ...\n",
            "\n",
            "--Next News--\n",
            "\n",
            "Why Is Apple Inc. (AAPL) Among the Best Tech Stocks for Long Term Investment?\n",
            "We recently compiled a list of the 10 Best Tech Stocks For Long Term Investment. In this article, we are going to take a look at where Apple Inc. (NASDAQ:AAPL) stands against the other tech stocks. In a recent conversation on December 3,\n",
            "\n",
            "--Next News--\n",
            "\n",
            "Why Apple Doesn't Need Nvidia\n",
            "Apple prefers Google's TPUs and Amazon's AI chips over Nvidia's GPUs for AI/ML tasks, aiming for efficiency & cost-effectiveness. See why I rate AAPL as a hold.\n",
            "\n",
            "--Next News--\n",
            "\n",
            "Apple Inc. (AAPL) Leverages AWS AI Chips for Apple Intelligence Pretraining, Highlights Collaboration at AWS re:Invent\n",
            "We recently compiled a list of the 10 AI News Investors Should Not Miss. In this article, we are going to take a look at where Apple Inc. (NASDAQ:AAPL) stands against the other AI stocks investors should not miss.\n",
            "\n",
            "--Next News--\n",
            "\n",
            "New Buy Rating for Apple (AAPL), the Technology Giant\n",
            "In a report released today, Aaron Rakers from Wells Fargo maintained a Buy rating on Apple (AAPL - Research Report), with a price target of\n",
            "\n",
            "--Next News--\n",
            "\n",
            "\n",
            "Thought: After analyzing the news content about Apple, the sentiment appears to be mostly positive, with articles highlighting its dominance in investment strategies, being a good long-term tech stock, and receiving a \"buy\" rating from a top analyst.\n",
            "\n",
            "Next, I should compare the sentiment of both companies and make a decision.\n",
            "\n",
            "Action: calculate: result=$10000/443.57 = 22.53 shares of MSFT or $10000/242.84 = 41.22 shares of AAPL\n",
            "PAUSE\n",
            "[<re.Match object; span=(0, 102), match='Action: calculate: result=$10000/443.57 = 22.53 s>]\n",
            " -- running calculate result=$10000/443.57 = 22.53 shares of MSFT or $10000/242.84 = 41.22 shares of AAPL\n",
            "result=$10000/443.57 = 22.53 shares of MSFT or $10000/242.84 = 41.22 shares of AAPL\n",
            "Observation: Error in calculation: invalid syntax (<string>, line 1)\n",
            "Thought: It seems I made a syntax error in my calculation. Let me try again.\n",
            "\n",
            "Action: calculate: result1=$10000/443.57; result2=$10000/242.84\n",
            "PAUSE\n",
            "[<re.Match object; span=(0, 63), match='Action: calculate: result1=$10000/443.57; result2>]\n",
            " -- running calculate result1=$10000/443.57; result2=$10000/242.84\n",
            "result1=$10000/443.57; result2=$10000/242.84\n",
            "Observation: Error in calculation: invalid syntax (<string>, line 1)\n",
            "Thought: I made another mistake. Let me separate the calculations.\n",
            "\n",
            "Action: calculate: result1=$10000/443.57\n",
            "PAUSE\n",
            "[<re.Match object; span=(0, 40), match='Action: calculate: result1=$10000/443.57'>]\n",
            " -- running calculate result1=$10000/443.57\n",
            "result1=$10000/443.57\n",
            "Observation: Error in calculation: invalid syntax (<string>, line 1)\n",
            "Thought: I think I know what's going on. I need to use Python syntax for the calculation.\n",
            "\n",
            "Action: calculate: result1=10000/443.57\n",
            "PAUSE\n",
            "[<re.Match object; span=(0, 39), match='Action: calculate: result1=10000/443.57'>]\n",
            " -- running calculate result1=10000/443.57\n",
            "result1=10000/443.57\n",
            "Observation: No result found\n",
            "Thought: That's okay, I'll try again.\n",
            "\n",
            "Action: calculate: result1=int(10000/443.57)\n",
            "PAUSE\n",
            "[<re.Match object; span=(0, 44), match='Action: calculate: result1=int(10000/443.57)'>]\n",
            " -- running calculate result1=int(10000/443.57)\n",
            "result1=int(10000/443.57)\n",
            "Observation: No result found\n",
            "Thought: I'll try again with a different approach.\n",
            "\n",
            "Action: calculate: result1=round(10000/443.57, 2)\n",
            "PAUSE\n",
            "[<re.Match object; span=(0, 49), match='Action: calculate: result1=round(10000/443.57, 2)>]\n",
            " -- running calculate result1=round(10000/443.57, 2)\n",
            "result1=round(10000/443.57, 2)\n",
            "Observation: No result found\n",
            "None\n"
          ]
        }
      ]
    },
    {
      "cell_type": "code",
      "source": [],
      "metadata": {
        "id": "tB0IidRUuYtW"
      },
      "execution_count": null,
      "outputs": []
    }
  ]
}